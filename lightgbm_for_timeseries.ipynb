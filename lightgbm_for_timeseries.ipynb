{
 "cells": [
  {
   "cell_type": "code",
   "execution_count": 22,
   "metadata": {},
   "outputs": [],
   "source": [
    "import datetime\n",
    "import matplotlib.pyplot as plt\n",
    "import pandas as pd\n",
    "import pandas_datareader.data as web\n",
    "import yfinance as yf\n",
    "import pickle\n",
    "\n",
    "import numpy as np\n",
    "from lightgbm import LGBMRegressor"
   ]
  },
  {
   "cell_type": "code",
   "execution_count": 23,
   "metadata": {},
   "outputs": [],
   "source": [
    "# topix銘柄を東証のファイルから取得\n",
    "df_company = pd.read_excel('data/data_j.xls', sheet_name=0, index_col=0)\n",
    "df_company = df_company.reset_index()\n",
    "df_company = df_company.rename(columns={'コード':'code', '銘柄名':'name', '市場・商品区分':'market', '33業種区分':'cat33', '17業種区分':'cat17', '規模区分':'scale'})\n",
    "df_company = df_company[['code','name', 'market', 'cat33', 'cat17', 'scale']]\n",
    "df_company = df_company[df_company['scale'].str.contains('TOPIX')]\n",
    "df_company = df_company[~df_company['scale'].str.contains('TOPIX Small ')]"
   ]
  },
  {
   "cell_type": "code",
   "execution_count": 24,
   "metadata": {},
   "outputs": [
    {
     "data": {
      "text/html": [
       "<div>\n",
       "<style scoped>\n",
       "    .dataframe tbody tr th:only-of-type {\n",
       "        vertical-align: middle;\n",
       "    }\n",
       "\n",
       "    .dataframe tbody tr th {\n",
       "        vertical-align: top;\n",
       "    }\n",
       "\n",
       "    .dataframe thead th {\n",
       "        text-align: right;\n",
       "    }\n",
       "</style>\n",
       "<table border=\"1\" class=\"dataframe\">\n",
       "  <thead>\n",
       "    <tr style=\"text-align: right;\">\n",
       "      <th></th>\n",
       "      <th>code</th>\n",
       "      <th>name</th>\n",
       "      <th>market</th>\n",
       "      <th>cat33</th>\n",
       "      <th>cat17</th>\n",
       "      <th>scale</th>\n",
       "    </tr>\n",
       "  </thead>\n",
       "  <tbody>\n",
       "    <tr>\n",
       "      <th>19</th>\n",
       "      <td>1332</td>\n",
       "      <td>日本水産</td>\n",
       "      <td>プライム（内国株式）</td>\n",
       "      <td>水産・農林業</td>\n",
       "      <td>食品</td>\n",
       "      <td>TOPIX Mid400</td>\n",
       "    </tr>\n",
       "    <tr>\n",
       "      <th>20</th>\n",
       "      <td>1333</td>\n",
       "      <td>マルハニチロ</td>\n",
       "      <td>プライム（内国株式）</td>\n",
       "      <td>水産・農林業</td>\n",
       "      <td>食品</td>\n",
       "      <td>TOPIX Mid400</td>\n",
       "    </tr>\n",
       "    <tr>\n",
       "      <th>61</th>\n",
       "      <td>1414</td>\n",
       "      <td>ショーボンドホールディングス</td>\n",
       "      <td>プライム（内国株式）</td>\n",
       "      <td>建設業</td>\n",
       "      <td>建設・資材</td>\n",
       "      <td>TOPIX Mid400</td>\n",
       "    </tr>\n",
       "    <tr>\n",
       "      <th>62</th>\n",
       "      <td>1417</td>\n",
       "      <td>ミライト・ホールディングス</td>\n",
       "      <td>プライム（内国株式）</td>\n",
       "      <td>建設業</td>\n",
       "      <td>建設・資材</td>\n",
       "      <td>TOPIX Mid400</td>\n",
       "    </tr>\n",
       "    <tr>\n",
       "      <th>162</th>\n",
       "      <td>1605</td>\n",
       "      <td>ＩＮＰＥＸ</td>\n",
       "      <td>プライム（内国株式）</td>\n",
       "      <td>鉱業</td>\n",
       "      <td>エネルギー資源</td>\n",
       "      <td>TOPIX Mid400</td>\n",
       "    </tr>\n",
       "    <tr>\n",
       "      <th>...</th>\n",
       "      <td>...</td>\n",
       "      <td>...</td>\n",
       "      <td>...</td>\n",
       "      <td>...</td>\n",
       "      <td>...</td>\n",
       "      <td>...</td>\n",
       "    </tr>\n",
       "    <tr>\n",
       "      <th>4158</th>\n",
       "      <td>9962</td>\n",
       "      <td>ミスミグループ本社</td>\n",
       "      <td>プライム（内国株式）</td>\n",
       "      <td>卸売業</td>\n",
       "      <td>商社・卸売</td>\n",
       "      <td>TOPIX Mid400</td>\n",
       "    </tr>\n",
       "    <tr>\n",
       "      <th>4171</th>\n",
       "      <td>9983</td>\n",
       "      <td>ファーストリテイリング</td>\n",
       "      <td>プライム（内国株式）</td>\n",
       "      <td>小売業</td>\n",
       "      <td>小売</td>\n",
       "      <td>TOPIX Large70</td>\n",
       "    </tr>\n",
       "    <tr>\n",
       "      <th>4172</th>\n",
       "      <td>9984</td>\n",
       "      <td>ソフトバンクグループ</td>\n",
       "      <td>プライム（内国株式）</td>\n",
       "      <td>情報・通信業</td>\n",
       "      <td>情報通信・サービスその他</td>\n",
       "      <td>TOPIX Core30</td>\n",
       "    </tr>\n",
       "    <tr>\n",
       "      <th>4174</th>\n",
       "      <td>9987</td>\n",
       "      <td>スズケン</td>\n",
       "      <td>プライム（内国株式）</td>\n",
       "      <td>卸売業</td>\n",
       "      <td>商社・卸売</td>\n",
       "      <td>TOPIX Mid400</td>\n",
       "    </tr>\n",
       "    <tr>\n",
       "      <th>4175</th>\n",
       "      <td>9989</td>\n",
       "      <td>サンドラッグ</td>\n",
       "      <td>プライム（内国株式）</td>\n",
       "      <td>小売業</td>\n",
       "      <td>小売</td>\n",
       "      <td>TOPIX Mid400</td>\n",
       "    </tr>\n",
       "  </tbody>\n",
       "</table>\n",
       "<p>500 rows × 6 columns</p>\n",
       "</div>"
      ],
      "text/plain": [
       "      code            name      market   cat33          cat17          scale\n",
       "19    1332            日本水産  プライム（内国株式）  水産・農林業            食品    TOPIX Mid400\n",
       "20    1333          マルハニチロ  プライム（内国株式）  水産・農林業            食品    TOPIX Mid400\n",
       "61    1414  ショーボンドホールディングス  プライム（内国株式）     建設業         建設・資材    TOPIX Mid400\n",
       "62    1417   ミライト・ホールディングス  プライム（内国株式）     建設業         建設・資材    TOPIX Mid400\n",
       "162   1605           ＩＮＰＥＸ  プライム（内国株式）      鉱業       エネルギー資源    TOPIX Mid400\n",
       "...    ...             ...         ...     ...            ...            ...\n",
       "4158  9962       ミスミグループ本社  プライム（内国株式）     卸売業         商社・卸売    TOPIX Mid400\n",
       "4171  9983     ファーストリテイリング  プライム（内国株式）     小売業            小売   TOPIX Large70\n",
       "4172  9984      ソフトバンクグループ  プライム（内国株式）  情報・通信業  情報通信・サービスその他    TOPIX Core30\n",
       "4174  9987            スズケン  プライム（内国株式）     卸売業         商社・卸売    TOPIX Mid400\n",
       "4175  9989          サンドラッグ  プライム（内国株式）     小売業            小売    TOPIX Mid400\n",
       "\n",
       "[500 rows x 6 columns]"
      ]
     },
     "execution_count": 24,
     "metadata": {},
     "output_type": "execute_result"
    }
   ],
   "source": [
    "df_company"
   ]
  },
  {
   "cell_type": "code",
   "execution_count": 25,
   "metadata": {},
   "outputs": [],
   "source": [
    "# get unique cat\n",
    "codes = df_company.code.to_numpy()\n",
    "cat33s = df_company.cat33.to_numpy()\n",
    "cat17s = df_company.cat17.to_numpy()\n",
    "\n",
    "# make dict\n",
    "cat33_list = list(set(cat33s))\n",
    "cat17_list = list(set(cat17s))\n",
    "cat33_cat2num = {}\n",
    "cat33_num2cat = {}\n",
    "cat17_cat2num = {}\n",
    "cat17_num2cat = {}\n",
    "for i in range(len(cat33_list)):\n",
    "    cat33_cat2num[cat33_list[i]] = i\n",
    "    cat33_num2cat[i] = cat33_list[i]\n",
    "for i in range(len(cat17_list)):\n",
    "    cat17_cat2num[cat17_list[i]] = i\n",
    "    cat17_num2cat[i] = cat17_list[i]\n",
    "\n",
    "# convert code to cat\n",
    "cat_dict = {}\n",
    "for i in range(len(codes)):\n",
    "    cat_dict[codes[i]] = [cat33_cat2num[cat33s[i]], cat17_cat2num[cat17s[i]]]\n"
   ]
  },
  {
   "cell_type": "code",
   "execution_count": 26,
   "metadata": {},
   "outputs": [],
   "source": [
    "# get date\n",
    "with open('data/closes_dict.pickle', 'rb') as f:\n",
    "    closes_dict = pickle.load(f)\n",
    "\n",
    "dates = []\n",
    "for i in range(0, 23):\n",
    "    for j in range(1, 12):\n",
    "        date_20 = '20{:02}-{:02}-26'.format(i, j)\n",
    "        dates.append(date_20)\n",
    "    \n",
    "closes_dict['date'] = dates"
   ]
  },
  {
   "cell_type": "code",
   "execution_count": 27,
   "metadata": {},
   "outputs": [],
   "source": [
    "# get close df\n",
    "df_closes = pd.DataFrame(closes_dict)"
   ]
  },
  {
   "cell_type": "code",
   "execution_count": 28,
   "metadata": {},
   "outputs": [
    {
     "data": {
      "text/html": [
       "<div>\n",
       "<style scoped>\n",
       "    .dataframe tbody tr th:only-of-type {\n",
       "        vertical-align: middle;\n",
       "    }\n",
       "\n",
       "    .dataframe tbody tr th {\n",
       "        vertical-align: top;\n",
       "    }\n",
       "\n",
       "    .dataframe thead th {\n",
       "        text-align: right;\n",
       "    }\n",
       "</style>\n",
       "<table border=\"1\" class=\"dataframe\">\n",
       "  <thead>\n",
       "    <tr style=\"text-align: right;\">\n",
       "      <th></th>\n",
       "      <th>1301</th>\n",
       "      <th>1332</th>\n",
       "      <th>1333</th>\n",
       "      <th>1375</th>\n",
       "      <th>1376</th>\n",
       "      <th>1377</th>\n",
       "      <th>1379</th>\n",
       "      <th>1384</th>\n",
       "      <th>1414</th>\n",
       "      <th>1417</th>\n",
       "      <th>...</th>\n",
       "      <th>9991</th>\n",
       "      <th>9993</th>\n",
       "      <th>9994</th>\n",
       "      <th>9995</th>\n",
       "      <th>9997</th>\n",
       "      <th>^N225</th>\n",
       "      <th>USDJPY=X</th>\n",
       "      <th>CL=F</th>\n",
       "      <th>^TNX</th>\n",
       "      <th>date</th>\n",
       "    </tr>\n",
       "  </thead>\n",
       "  <tbody>\n",
       "    <tr>\n",
       "      <th>0</th>\n",
       "      <td>NaN</td>\n",
       "      <td>116.085083</td>\n",
       "      <td>NaN</td>\n",
       "      <td>NaN</td>\n",
       "      <td>725.479065</td>\n",
       "      <td>NaN</td>\n",
       "      <td>NaN</td>\n",
       "      <td>NaN</td>\n",
       "      <td>NaN</td>\n",
       "      <td>NaN</td>\n",
       "      <td>...</td>\n",
       "      <td>NaN</td>\n",
       "      <td>NaN</td>\n",
       "      <td>NaN</td>\n",
       "      <td>178.813324</td>\n",
       "      <td>NaN</td>\n",
       "      <td>19111.189453</td>\n",
       "      <td>105.580002</td>\n",
       "      <td>NaN</td>\n",
       "      <td>6.680</td>\n",
       "      <td>2000-01-26</td>\n",
       "    </tr>\n",
       "    <tr>\n",
       "      <th>1</th>\n",
       "      <td>NaN</td>\n",
       "      <td>105.471535</td>\n",
       "      <td>NaN</td>\n",
       "      <td>NaN</td>\n",
       "      <td>673.440674</td>\n",
       "      <td>NaN</td>\n",
       "      <td>NaN</td>\n",
       "      <td>NaN</td>\n",
       "      <td>NaN</td>\n",
       "      <td>NaN</td>\n",
       "      <td>...</td>\n",
       "      <td>NaN</td>\n",
       "      <td>NaN</td>\n",
       "      <td>NaN</td>\n",
       "      <td>190.067307</td>\n",
       "      <td>NaN</td>\n",
       "      <td>19817.880859</td>\n",
       "      <td>110.150002</td>\n",
       "      <td>NaN</td>\n",
       "      <td>6.341</td>\n",
       "      <td>2000-02-26</td>\n",
       "    </tr>\n",
       "    <tr>\n",
       "      <th>2</th>\n",
       "      <td>NaN</td>\n",
       "      <td>118.075058</td>\n",
       "      <td>NaN</td>\n",
       "      <td>NaN</td>\n",
       "      <td>788.231628</td>\n",
       "      <td>NaN</td>\n",
       "      <td>NaN</td>\n",
       "      <td>NaN</td>\n",
       "      <td>NaN</td>\n",
       "      <td>NaN</td>\n",
       "      <td>...</td>\n",
       "      <td>NaN</td>\n",
       "      <td>NaN</td>\n",
       "      <td>NaN</td>\n",
       "      <td>216.326660</td>\n",
       "      <td>NaN</td>\n",
       "      <td>19958.080078</td>\n",
       "      <td>106.699997</td>\n",
       "      <td>NaN</td>\n",
       "      <td>6.174</td>\n",
       "      <td>2000-03-26</td>\n",
       "    </tr>\n",
       "    <tr>\n",
       "      <th>3</th>\n",
       "      <td>NaN</td>\n",
       "      <td>110.527740</td>\n",
       "      <td>NaN</td>\n",
       "      <td>NaN</td>\n",
       "      <td>749.967834</td>\n",
       "      <td>NaN</td>\n",
       "      <td>NaN</td>\n",
       "      <td>NaN</td>\n",
       "      <td>NaN</td>\n",
       "      <td>NaN</td>\n",
       "      <td>...</td>\n",
       "      <td>NaN</td>\n",
       "      <td>NaN</td>\n",
       "      <td>NaN</td>\n",
       "      <td>194.470703</td>\n",
       "      <td>NaN</td>\n",
       "      <td>18134.310547</td>\n",
       "      <td>106.379997</td>\n",
       "      <td>NaN</td>\n",
       "      <td>6.130</td>\n",
       "      <td>2000-04-26</td>\n",
       "    </tr>\n",
       "    <tr>\n",
       "      <th>4</th>\n",
       "      <td>NaN</td>\n",
       "      <td>122.055183</td>\n",
       "      <td>NaN</td>\n",
       "      <td>NaN</td>\n",
       "      <td>654.308594</td>\n",
       "      <td>NaN</td>\n",
       "      <td>NaN</td>\n",
       "      <td>NaN</td>\n",
       "      <td>NaN</td>\n",
       "      <td>NaN</td>\n",
       "      <td>...</td>\n",
       "      <td>NaN</td>\n",
       "      <td>NaN</td>\n",
       "      <td>NaN</td>\n",
       "      <td>191.877792</td>\n",
       "      <td>NaN</td>\n",
       "      <td>16008.139648</td>\n",
       "      <td>107.110001</td>\n",
       "      <td>NaN</td>\n",
       "      <td>6.320</td>\n",
       "      <td>2000-05-26</td>\n",
       "    </tr>\n",
       "    <tr>\n",
       "      <th>...</th>\n",
       "      <td>...</td>\n",
       "      <td>...</td>\n",
       "      <td>...</td>\n",
       "      <td>...</td>\n",
       "      <td>...</td>\n",
       "      <td>...</td>\n",
       "      <td>...</td>\n",
       "      <td>...</td>\n",
       "      <td>...</td>\n",
       "      <td>...</td>\n",
       "      <td>...</td>\n",
       "      <td>...</td>\n",
       "      <td>...</td>\n",
       "      <td>...</td>\n",
       "      <td>...</td>\n",
       "      <td>...</td>\n",
       "      <td>...</td>\n",
       "      <td>...</td>\n",
       "      <td>...</td>\n",
       "      <td>...</td>\n",
       "      <td>...</td>\n",
       "    </tr>\n",
       "    <tr>\n",
       "      <th>248</th>\n",
       "      <td>3635.0</td>\n",
       "      <td>605.000000</td>\n",
       "      <td>2507.0</td>\n",
       "      <td>961.0</td>\n",
       "      <td>1640.000000</td>\n",
       "      <td>4895.0</td>\n",
       "      <td>1934.0</td>\n",
       "      <td>618.0</td>\n",
       "      <td>5800.0</td>\n",
       "      <td>1680.0</td>\n",
       "      <td>...</td>\n",
       "      <td>839.0</td>\n",
       "      <td>1426.0</td>\n",
       "      <td>2605.0</td>\n",
       "      <td>404.000000</td>\n",
       "      <td>825.0</td>\n",
       "      <td>27655.210938</td>\n",
       "      <td>136.970001</td>\n",
       "      <td>94.980003</td>\n",
       "      <td>2.787</td>\n",
       "      <td>2022-07-26</td>\n",
       "    </tr>\n",
       "    <tr>\n",
       "      <th>249</th>\n",
       "      <td>3730.0</td>\n",
       "      <td>576.000000</td>\n",
       "      <td>2527.0</td>\n",
       "      <td>1041.0</td>\n",
       "      <td>1625.000000</td>\n",
       "      <td>5030.0</td>\n",
       "      <td>1931.0</td>\n",
       "      <td>618.0</td>\n",
       "      <td>6140.0</td>\n",
       "      <td>1616.0</td>\n",
       "      <td>...</td>\n",
       "      <td>819.0</td>\n",
       "      <td>1386.0</td>\n",
       "      <td>2601.0</td>\n",
       "      <td>417.000000</td>\n",
       "      <td>752.0</td>\n",
       "      <td>28641.380859</td>\n",
       "      <td>136.563004</td>\n",
       "      <td>93.059998</td>\n",
       "      <td>3.035</td>\n",
       "      <td>2022-08-26</td>\n",
       "    </tr>\n",
       "    <tr>\n",
       "      <th>250</th>\n",
       "      <td>3700.0</td>\n",
       "      <td>570.000000</td>\n",
       "      <td>2492.0</td>\n",
       "      <td>1033.0</td>\n",
       "      <td>1591.000000</td>\n",
       "      <td>4965.0</td>\n",
       "      <td>1929.0</td>\n",
       "      <td>614.0</td>\n",
       "      <td>6020.0</td>\n",
       "      <td>1588.0</td>\n",
       "      <td>...</td>\n",
       "      <td>819.0</td>\n",
       "      <td>1386.0</td>\n",
       "      <td>2601.0</td>\n",
       "      <td>417.000000</td>\n",
       "      <td>752.0</td>\n",
       "      <td>28641.380859</td>\n",
       "      <td>136.563004</td>\n",
       "      <td>93.059998</td>\n",
       "      <td>3.097</td>\n",
       "      <td>2022-09-26</td>\n",
       "    </tr>\n",
       "    <tr>\n",
       "      <th>251</th>\n",
       "      <td>3700.0</td>\n",
       "      <td>570.000000</td>\n",
       "      <td>2492.0</td>\n",
       "      <td>1033.0</td>\n",
       "      <td>1591.000000</td>\n",
       "      <td>4965.0</td>\n",
       "      <td>1929.0</td>\n",
       "      <td>614.0</td>\n",
       "      <td>6020.0</td>\n",
       "      <td>1588.0</td>\n",
       "      <td>...</td>\n",
       "      <td>819.0</td>\n",
       "      <td>1386.0</td>\n",
       "      <td>2601.0</td>\n",
       "      <td>417.000000</td>\n",
       "      <td>752.0</td>\n",
       "      <td>28641.380859</td>\n",
       "      <td>136.563004</td>\n",
       "      <td>93.059998</td>\n",
       "      <td>3.097</td>\n",
       "      <td>2022-10-26</td>\n",
       "    </tr>\n",
       "    <tr>\n",
       "      <th>252</th>\n",
       "      <td>3700.0</td>\n",
       "      <td>570.000000</td>\n",
       "      <td>2492.0</td>\n",
       "      <td>1033.0</td>\n",
       "      <td>1591.000000</td>\n",
       "      <td>4965.0</td>\n",
       "      <td>1929.0</td>\n",
       "      <td>614.0</td>\n",
       "      <td>6020.0</td>\n",
       "      <td>1588.0</td>\n",
       "      <td>...</td>\n",
       "      <td>819.0</td>\n",
       "      <td>1386.0</td>\n",
       "      <td>2601.0</td>\n",
       "      <td>417.000000</td>\n",
       "      <td>752.0</td>\n",
       "      <td>28641.380859</td>\n",
       "      <td>136.563004</td>\n",
       "      <td>93.059998</td>\n",
       "      <td>3.097</td>\n",
       "      <td>2022-11-26</td>\n",
       "    </tr>\n",
       "  </tbody>\n",
       "</table>\n",
       "<p>253 rows × 2176 columns</p>\n",
       "</div>"
      ],
      "text/plain": [
       "       1301        1332    1333    1375         1376    1377    1379   1384  \\\n",
       "0       NaN  116.085083     NaN     NaN   725.479065     NaN     NaN    NaN   \n",
       "1       NaN  105.471535     NaN     NaN   673.440674     NaN     NaN    NaN   \n",
       "2       NaN  118.075058     NaN     NaN   788.231628     NaN     NaN    NaN   \n",
       "3       NaN  110.527740     NaN     NaN   749.967834     NaN     NaN    NaN   \n",
       "4       NaN  122.055183     NaN     NaN   654.308594     NaN     NaN    NaN   \n",
       "..      ...         ...     ...     ...          ...     ...     ...    ...   \n",
       "248  3635.0  605.000000  2507.0   961.0  1640.000000  4895.0  1934.0  618.0   \n",
       "249  3730.0  576.000000  2527.0  1041.0  1625.000000  5030.0  1931.0  618.0   \n",
       "250  3700.0  570.000000  2492.0  1033.0  1591.000000  4965.0  1929.0  614.0   \n",
       "251  3700.0  570.000000  2492.0  1033.0  1591.000000  4965.0  1929.0  614.0   \n",
       "252  3700.0  570.000000  2492.0  1033.0  1591.000000  4965.0  1929.0  614.0   \n",
       "\n",
       "       1414    1417  ...   9991    9993    9994        9995   9997  \\\n",
       "0       NaN     NaN  ...    NaN     NaN     NaN  178.813324    NaN   \n",
       "1       NaN     NaN  ...    NaN     NaN     NaN  190.067307    NaN   \n",
       "2       NaN     NaN  ...    NaN     NaN     NaN  216.326660    NaN   \n",
       "3       NaN     NaN  ...    NaN     NaN     NaN  194.470703    NaN   \n",
       "4       NaN     NaN  ...    NaN     NaN     NaN  191.877792    NaN   \n",
       "..      ...     ...  ...    ...     ...     ...         ...    ...   \n",
       "248  5800.0  1680.0  ...  839.0  1426.0  2605.0  404.000000  825.0   \n",
       "249  6140.0  1616.0  ...  819.0  1386.0  2601.0  417.000000  752.0   \n",
       "250  6020.0  1588.0  ...  819.0  1386.0  2601.0  417.000000  752.0   \n",
       "251  6020.0  1588.0  ...  819.0  1386.0  2601.0  417.000000  752.0   \n",
       "252  6020.0  1588.0  ...  819.0  1386.0  2601.0  417.000000  752.0   \n",
       "\n",
       "            ^N225    USDJPY=X       CL=F   ^TNX        date  \n",
       "0    19111.189453  105.580002        NaN  6.680  2000-01-26  \n",
       "1    19817.880859  110.150002        NaN  6.341  2000-02-26  \n",
       "2    19958.080078  106.699997        NaN  6.174  2000-03-26  \n",
       "3    18134.310547  106.379997        NaN  6.130  2000-04-26  \n",
       "4    16008.139648  107.110001        NaN  6.320  2000-05-26  \n",
       "..            ...         ...        ...    ...         ...  \n",
       "248  27655.210938  136.970001  94.980003  2.787  2022-07-26  \n",
       "249  28641.380859  136.563004  93.059998  3.035  2022-08-26  \n",
       "250  28641.380859  136.563004  93.059998  3.097  2022-09-26  \n",
       "251  28641.380859  136.563004  93.059998  3.097  2022-10-26  \n",
       "252  28641.380859  136.563004  93.059998  3.097  2022-11-26  \n",
       "\n",
       "[253 rows x 2176 columns]"
      ]
     },
     "execution_count": 28,
     "metadata": {},
     "output_type": "execute_result"
    }
   ],
   "source": [
    "df_closes"
   ]
  },
  {
   "cell_type": "code",
   "execution_count": 29,
   "metadata": {},
   "outputs": [],
   "source": [
    "# macroの特徴量作成\n",
    "df_macro = df_closes[df_closes.date <= '2022-08-26'][['date', '^N225', 'USDJPY=X', 'CL=F', '^TNX']]\n",
    "for i in [3, 6, 12, 24, 36, 48]:\n",
    "    df_macro['^N225_rel_{}'.format(i)] = df_macro['^N225'] / df_macro['^N225'].transform(lambda x: x.rolling(i, 1).mean())\n",
    "    df_macro['USDJPY=X_rel_{}'.format(i)] = df_macro['USDJPY=X'] / df_macro['USDJPY=X'].transform(lambda x: x.rolling(i, 1).mean())\n",
    "    df_macro['CL=F_rel_{}'.format(i)] = df_macro['CL=F'] / df_macro['CL=F'].transform(lambda x: x.rolling(i, 1).mean())\n",
    "    df_macro['^TNX_rel_{}'.format(i)] = df_macro['^TNX'] / df_macro['^TNX'].transform(lambda x: x.rolling(i, 1).mean())"
   ]
  },
  {
   "cell_type": "code",
   "execution_count": 30,
   "metadata": {},
   "outputs": [],
   "source": [
    "target_codes = [1332, 1333, 1414, 1417, 1605, 1721, 1801, 1802, 1803, 1808, 1812, 1820, 1860, 1878, 1893, 1911, 1925, 1928, 1944, 1951, 1959, 1963, 2002, 2127, 2175, 2181, 2201, 2206, 2212, 2229, 2264, 2267, 2269, 2270, 2282, 2331, 2371, 2412, 2413, 2427, 2432, 2433, 2492, 2501, 2502, 2503, 2531, 2579, 2587, 2593, 2607, 2651, 2670, 2768, 2784, 2801, 2802, 2809, 2810, 2811, 2815, 2871, 2875, 2897, 2914, 3003, 3038, 3064, 3086, 3088, 3092, 3099, 3101, 3105, 3107, 3116, 3141, 3197, 3231, 3288, 3289, 3291, 3349, 3360, 3382, 3391, 3401, 3402, 3405, 3407, 3436, 3549, 3563, 3591, 3626, 3635, 3659, 3697, 3765, 3769, 3774, 3861, 3863, 3880, 3923, 3941, 3994, 4004, 4005, 4021, 4042, 4043, 4045, 4061, 4062, 4063, 4088, 4091, 4114, 4118, 4151, 4182, 4183, 4185, 4186, 4188, 4202, 4203, 4204, 4205, 4206, 4208, 4272, 4307, 4324, 4401, 4403, 4443, 4452, 4502, 4503, 4506, 4507, 4516, 4519, 4521, 4523, 4527, 4528, 4530, 4534, 4536, 4540, 4543, 4544, 4552, 4568, 4578, 4581, 4587, 4612, 4613, 4631, 4661, 4665, 4666, 4676, 4681, 4684, 4686, 4689, 4704, 4716, 4732, 4739, 4751, 4755, 4768, 4887, 4901, 4902, 4911, 4912, 4919, 4921, 4922, 4927, 4967, 5019, 5020, 5021, 5076, 5101, 5105, 5108, 5110, 5201, 5214, 5232, 5233, 5301, 5332, 5333, 5334, 5401, 5406, 5411, 5444, 5463, 5471, 5486, 5631, 5703, 5706, 5711, 5713, 5714, 5801, 5802, 5901, 5929, 5938, 5947, 5991, 6005, 6028, 6098, 6103, 6113, 6134, 6136, 6141, 6146, 6178, 6201, 6268, 6273, 6301, 6302, 6305, 6326, 6361, 6367, 6370, 6383, 6395, 6406, 6417, 6436, 6448, 6457, 6460, 6465, 6471, 6472, 6473, 6479, 6481, 6501, 6502, 6503, 6504, 6506, 6532, 6586, 6592, 6594, 6645, 6674, 6701, 6702, 6723, 6724, 6728, 6752, 6753, 6754, 6755, 6758, 6762, 6770, 6806, 6841, 6845, 6849, 6856, 6857, 6861, 6869, 6902, 6920, 6923, 6925, 6951, 6952, 6954, 6963, 6965, 6967, 6971, 6976, 6981, 6988, 7011, 7012, 7013, 7164, 7167, 7180, 7181, 7182, 7186, 7201, 7202, 7203, 7205, 7211, 7240, 7259, 7261, 7267, 7269, 7270, 7272, 7276, 7282, 7309, 7313, 7337, 7453, 7458, 7459, 7476, 7518, 7532, 7550, 7616, 7649, 7701, 7730, 7731, 7732, 7733, 7735, 7741, 7747, 7751, 7752, 7780, 7832, 7846, 7911, 7912, 7936, 7947, 7951, 7956, 7966, 7974, 7984, 7988, 8001, 8002, 8012, 8015, 8031, 8035, 8053, 8056, 8058, 8060, 8086, 8088, 8111, 8113, 8129, 8136, 8227, 8233, 8252, 8253, 8267, 8273, 8279, 8282, 8283, 8303, 8304, 8306, 8308, 8309, 8316, 8331, 8334, 8354, 8355, 8359, 8369, 8377, 8382, 8385, 8410, 8411, 8418, 8439, 8473, 8570, 8572, 8591, 8593, 8595, 8601, 8604, 8630, 8697, 8725, 8750, 8766, 8795, 8801, 8802, 8804, 8830, 8876, 8905, 9001, 9003, 9005, 9006, 9007, 9008, 9009, 9020, 9021, 9022, 9024, 9031, 9041, 9042, 9044, 9045, 9048, 9064, 9065, 9072, 9076, 9086, 9101, 9104, 9107, 9142, 9143, 9147, 9201, 9202, 9301, 9364, 9401, 9404, 9409, 9432, 9433, 9434, 9435, 9449, 9468, 9501, 9502, 9503, 9504, 9505, 9506, 9507, 9508, 9509, 9513, 9531, 9532, 9533, 9601, 9602, 9613, 9627, 9684, 9697, 9706, 9719, 9735, 9744, 9766, 9783, 9831, 9832, 9843, 9861, 9962, 9983, 9984, 9987, 9989]"
   ]
  },
  {
   "cell_type": "code",
   "execution_count": 31,
   "metadata": {},
   "outputs": [
    {
     "name": "stderr",
     "output_type": "stream",
     "text": [
      "/home/tnakamura/anaconda3/lib/python3.9/site-packages/pandas/core/arraylike.py:364: RuntimeWarning: invalid value encountered in log\n",
      "  result = getattr(ufunc, method)(*inputs, **kwargs)\n"
     ]
    }
   ],
   "source": [
    "df_all = pd.DataFrame()\n",
    "for code in target_codes:\n",
    "    # 個別株のデータの取り出し\n",
    "    df_i = df_closes[df_closes.date <= '2022-08-26'][['date', code, '^N225']]\n",
    "\n",
    "    # カテゴリ\n",
    "    df_i[['cat33', 'cat17']] = cat_dict[1332]\n",
    "\n",
    "    # 株価の推移\n",
    "    df_i['stock_pri'] = df_i[code]\n",
    "    for i in [1, 2, 3, 4, 5, 6, 7, 8, 9, 10, 11, 12]:\n",
    "        df_i['stock_pri_{}'.format(i)] = df_i['stock_pri'].shift(i) / df_i['stock_pri']\n",
    "\n",
    "    # 日経平均に対する値動き\n",
    "    df_i['rel_pri'] = df_i['stock_pri'] / df_i['^N225']\n",
    "    for i in range(0, 12):\n",
    "        df_i['rel_ret_{}'.format(i)] = df_i['rel_pri'].shift(i) / df_i['rel_pri'].shift(i+1)\n",
    "        df_i['rel_ret_{}'.format(i)] = df_i['rel_pri'].shift(i) / df_i['rel_pri'].shift(i+1)\n",
    "\n",
    "    # センチメント\n",
    "    for i in [3, 6, 12, 24, 36, 48]:\n",
    "        df_i['stock_pri_rel_{}'.format(i)] = df_i['stock_pri'] / df_i['stock_pri'].transform(lambda x: x.rolling(i, 1).mean())\n",
    "        df_i['rel_pri_rel_{}'.format(i)] = df_i['rel_pri'] / df_i['rel_pri'].transform(lambda x: x.rolling(i, 1).mean())\n",
    "\n",
    "\n",
    "    df_i['target'] = np.log(df_i['rel_pri'].shift(-3)/df_i['rel_pri'])\n",
    "    df_i = df_i.drop(code, axis=1)\n",
    "    df_i = df_i.drop('^N225', axis=1)\n",
    "    df_i['code_num'] = code\n",
    "\n",
    "    df_i = pd.merge(df_i, df_macro, on='date')\n",
    "    df_i = df_i[df_i.date >= '2005']\n",
    "\n",
    "    df_all = pd.concat([df_all, df_i])"
   ]
  },
  {
   "cell_type": "markdown",
   "metadata": {},
   "source": [
    "# 機械学習"
   ]
  },
  {
   "cell_type": "code",
   "execution_count": 32,
   "metadata": {},
   "outputs": [],
   "source": [
    "# Numpy Version\n",
    "def build_model():\n",
    "    # Do feel free to experiment with different models here!\n",
    "    model = LGBMRegressor(n_estimators = 1000, num_leaves = 500, max_depth = 10, learning_rate = 0.09)\n",
    "    return model"
   ]
  },
  {
   "cell_type": "code",
   "execution_count": 33,
   "metadata": {},
   "outputs": [],
   "source": [
    "features = ['cat33', 'cat17', 'stock_pri', 'stock_pri_1', 'stock_pri_2',\n",
    "       'stock_pri_3', 'stock_pri_4', 'stock_pri_5', 'stock_pri_6',\n",
    "       'stock_pri_7', 'stock_pri_8', 'stock_pri_9', 'stock_pri_10',\n",
    "       'stock_pri_11', 'stock_pri_12', 'rel_pri', 'rel_ret_0', 'rel_ret_1',\n",
    "       'rel_ret_2', 'rel_ret_3', 'rel_ret_4', 'rel_ret_5', 'rel_ret_6',\n",
    "       'rel_ret_7', 'rel_ret_8', 'rel_ret_9', 'rel_ret_10', 'rel_ret_11',\n",
    "       'stock_pri_rel_3', 'rel_pri_rel_3', 'stock_pri_rel_6', 'rel_pri_rel_6',\n",
    "       'stock_pri_rel_12', 'rel_pri_rel_12', 'stock_pri_rel_24',\n",
    "       'rel_pri_rel_24', 'stock_pri_rel_36', 'rel_pri_rel_36',\n",
    "       'stock_pri_rel_48', 'rel_pri_rel_48', 'code_num', '^N225',\n",
    "       'USDJPY=X', 'CL=F', '^TNX', '^N225_rel_3', 'USDJPY=X_rel_3',\n",
    "       'CL=F_rel_3', '^TNX_rel_3', '^N225_rel_6', 'USDJPY=X_rel_6',\n",
    "       'CL=F_rel_6', '^TNX_rel_6', '^N225_rel_12', 'USDJPY=X_rel_12',\n",
    "       'CL=F_rel_12', '^TNX_rel_12', '^N225_rel_24', 'USDJPY=X_rel_24',\n",
    "       'CL=F_rel_24', '^TNX_rel_24', '^N225_rel_36', 'USDJPY=X_rel_36',\n",
    "       'CL=F_rel_36', '^TNX_rel_36', '^N225_rel_48', 'USDJPY=X_rel_48',\n",
    "       'CL=F_rel_48', '^TNX_rel_48']"
   ]
  },
  {
   "cell_type": "code",
   "execution_count": 34,
   "metadata": {},
   "outputs": [
    {
     "name": "stderr",
     "output_type": "stream",
     "text": [
      "/tmp/ipykernel_3094987/3083820278.py:14: SettingWithCopyWarning: \n",
      "A value is trying to be set on a copy of a slice from a DataFrame.\n",
      "Try using .loc[row_indexer,col_indexer] = value instead\n",
      "\n",
      "See the caveats in the documentation: https://pandas.pydata.org/pandas-docs/stable/user_guide/indexing.html#returning-a-view-versus-a-copy\n",
      "  df_val['pred'] = pred\n"
     ]
    }
   ],
   "source": [
    "corrs = {}\n",
    "for i in range(10, 23):\n",
    "    start = '20{:02}'.format(i)\n",
    "    end = '20{:02}'.format(i+1)\n",
    "    df_train = df_all[df_all.date < start]\n",
    "    df_val = df_all[(df_all.date >= start) & (df_all.date < end)]\n",
    "    train_X, train_y = df_train[features], df_train['target'] \n",
    "    val_X, val_y = df_val[features], df_val['target'] \n",
    "\n",
    "    # make models\n",
    "    model = build_model()\n",
    "    model.fit( train_X, train_y)\n",
    "    pred = model.predict(val_X)\n",
    "    df_val['pred'] = pred\n",
    "\n",
    "    df_pred = df_val[['pred', 'target']].dropna()\n",
    "    corrs[start] = np.corrcoef(df_pred['pred'], df_pred['target'])[0][1]"
   ]
  },
  {
   "cell_type": "code",
   "execution_count": 35,
   "metadata": {},
   "outputs": [
    {
     "data": {
      "text/plain": [
       "{'2010': 0.4569628379791139,\n",
       " '2011': 0.29403443872728036,\n",
       " '2012': 0.21433146056815702,\n",
       " '2013': 0.13371959249490567,\n",
       " '2014': 0.05957493222811684,\n",
       " '2015': 0.04229073041375135,\n",
       " '2016': 0.034406656250621434,\n",
       " '2017': 0.06511019204912911,\n",
       " '2018': 0.02656418544512389,\n",
       " '2019': 0.0624192533238805,\n",
       " '2020': 0.08618780870250205,\n",
       " '2021': 0.06985992886795635,\n",
       " '2022': 0.061940833670089866}"
      ]
     },
     "execution_count": 35,
     "metadata": {},
     "output_type": "execute_result"
    }
   ],
   "source": [
    "corrs"
   ]
  },
  {
   "cell_type": "code",
   "execution_count": 36,
   "metadata": {},
   "outputs": [
    {
     "name": "stderr",
     "output_type": "stream",
     "text": [
      "/tmp/ipykernel_3094987/2153178893.py:5: SettingWithCopyWarning: \n",
      "A value is trying to be set on a copy of a slice from a DataFrame.\n",
      "Try using .loc[row_indexer,col_indexer] = value instead\n",
      "\n",
      "See the caveats in the documentation: https://pandas.pydata.org/pandas-docs/stable/user_guide/indexing.html#returning-a-view-versus-a-copy\n",
      "  df_val['pred'] = pred\n"
     ]
    }
   ],
   "source": [
    "# make models\n",
    "model = build_model()\n",
    "model.fit( train_X, train_y)\n",
    "pred = model.predict(val_X)\n",
    "df_val['pred'] = pred"
   ]
  },
  {
   "cell_type": "code",
   "execution_count": 40,
   "metadata": {},
   "outputs": [
    {
     "data": {
      "text/plain": [
       "0.061940833670089866"
      ]
     },
     "execution_count": 40,
     "metadata": {},
     "output_type": "execute_result"
    }
   ],
   "source": [
    "df_pred = df_val[['pred', 'target']].dropna()\n",
    "np.corrcoef(df_pred['pred'], df_pred['target'])[0][1]"
   ]
  },
  {
   "cell_type": "code",
   "execution_count": 41,
   "metadata": {},
   "outputs": [
    {
     "data": {
      "image/png": "[encoded data removed]",
      "text/plain": [
       "<Figure size 432x288 with 1 Axes>"
      ]
     },
     "metadata": {
      "needs_background": "light"
     },
     "output_type": "display_data"
    }
   ],
   "source": [
    "plt.scatter(df_val['target'],df_val['pred'],  s=10)\n",
    "plt.ylabel('prediction')\n",
    "plt.xlabel('true')\n",
    "plt.title('prediction of stock return to Nikkei (2022)\\n correlation: 0.0619')\n",
    "plt.savefig('corr_2022.png')"
   ]
  },
  {
   "cell_type": "markdown",
   "metadata": {},
   "source": [
    "# 銘柄選択"
   ]
  },
  {
   "cell_type": "code",
   "execution_count": 47,
   "metadata": {},
   "outputs": [],
   "source": [
    "df_train = df_all[df_all.date < '2022-06-26']\n",
    "df_val = df_all[df_all.date == '2022-08-26']\n",
    "train_X, train_y = df_train[features], df_train['target'] \n",
    "val_X, val_y = df_val[features], df_val['target'] "
   ]
  },
  {
   "cell_type": "code",
   "execution_count": 48,
   "metadata": {},
   "outputs": [
    {
     "name": "stderr",
     "output_type": "stream",
     "text": [
      "/tmp/ipykernel_3094987/2153178893.py:5: SettingWithCopyWarning: \n",
      "A value is trying to be set on a copy of a slice from a DataFrame.\n",
      "Try using .loc[row_indexer,col_indexer] = value instead\n",
      "\n",
      "See the caveats in the documentation: https://pandas.pydata.org/pandas-docs/stable/user_guide/indexing.html#returning-a-view-versus-a-copy\n",
      "  df_val['pred'] = pred\n"
     ]
    }
   ],
   "source": [
    "# make models\n",
    "model = build_model()\n",
    "model.fit( train_X, train_y)\n",
    "pred = model.predict(val_X)\n",
    "df_val['pred'] = pred"
   ]
  },
  {
   "cell_type": "code",
   "execution_count": 49,
   "metadata": {},
   "outputs": [],
   "source": [
    "df_result = pd.merge(df_val, df_company, left_on='code_num', right_on='code')"
   ]
  },
  {
   "cell_type": "code",
   "execution_count": 50,
   "metadata": {},
   "outputs": [
    {
     "data": {
      "text/plain": [
       "0      1332\n",
       "1      1333\n",
       "2      1414\n",
       "3      1417\n",
       "4      1605\n",
       "       ... \n",
       "495    9962\n",
       "496    9983\n",
       "497    9984\n",
       "498    9987\n",
       "499    9989\n",
       "Name: code_num, Length: 500, dtype: int64"
      ]
     },
     "execution_count": 50,
     "metadata": {},
     "output_type": "execute_result"
    }
   ],
   "source": [
    "df_result.code_num"
   ]
  },
  {
   "cell_type": "code",
   "execution_count": null,
   "metadata": {},
   "outputs": [],
   "source": [
    "stds = []\n",
    "for code_num in df_result.code_num.to_numpy():\n",
    "    print(code_num)\n",
    "    start = datetime.date(2021,6,27)\n",
    "    end = datetime.date.today()\n",
    "    closes = web.DataReader('{}.T'.format(code_num), 'yahoo', start, end).Close\n",
    "    std = np.std(closes/closes.shift(1))\n",
    "    stds.append(std)"
   ]
  },
  {
   "cell_type": "code",
   "execution_count": null,
   "metadata": {},
   "outputs": [],
   "source": [
    "df_result['std'] = stds"
   ]
  },
  {
   "cell_type": "code",
   "execution_count": null,
   "metadata": {},
   "outputs": [],
   "source": [
    "df_result['vol_for_1y'] = df_result['std'] * 16"
   ]
  },
  {
   "cell_type": "code",
   "execution_count": 51,
   "metadata": {},
   "outputs": [],
   "source": [
    "df_result.to_csv('data/macro_ranking.csv')"
   ]
  },
  {
   "cell_type": "code",
   "execution_count": 33,
   "metadata": {},
   "outputs": [
    {
     "data": {
      "text/plain": [
       "0      201.0\n",
       "1      162.0\n",
       "2      180.0\n",
       "3      170.0\n",
       "4      178.0\n",
       "       ...  \n",
       "248    568.0\n",
       "249    568.0\n",
       "250    568.0\n",
       "251    568.0\n",
       "252    568.0\n",
       "Name: 1332, Length: 253, dtype: float64"
      ]
     },
     "execution_count": 33,
     "metadata": {},
     "output_type": "execute_result"
    }
   ],
   "source": [
    "df_closes[1332]"
   ]
  },
  {
   "cell_type": "code",
   "execution_count": null,
   "metadata": {},
   "outputs": [],
   "source": []
  }
 ],
 "metadata": {
  "kernelspec": {
   "display_name": "Python 3.9.7 ('base')",
   "language": "python",
   "name": "python3"
  },
  "language_info": {
   "codemirror_mode": {
    "name": "ipython",
    "version": 3
   },
   "file_extension": ".py",
   "mimetype": "text/x-python",
   "name": "python",
   "nbconvert_exporter": "python",
   "pygments_lexer": "ipython3",
   "version": "3.9.7"
  },
  "orig_nbformat": 4,
  "vscode": {
   "interpreter": {
    "hash": "a4f39372366c0dce6471eb7ce7fad1c6ed4fee7821f34ed1b31dc81369db1d46"
   }
  }
 },
 "nbformat": 4,
 "nbformat_minor": 2
}
